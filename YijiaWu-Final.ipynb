{
 "cells": [
  {
   "cell_type": "markdown",
   "metadata": {},
   "source": [
    "# \"East meets West\": An Exploration of the Cultural Conflicts in Mother-and-daughter Relationship Based on the Text of _the Joy Luck Club_\n",
    "\n",
    "## Yijia Wu\n",
    "\n",
    "Instructions: \n",
    "\n",
    "1. Replace \"yourname\" in the title of this notebook, and \"your name here\" in the markdown above, with your name.\n",
    "2. Create a title for your final project. Preferably, this should indicate what your argument is. Replace \"your title here\" in the markdown above with your title.\n",
    "3. Write your paper, and include everything (your prose in Markdown, your code, and your figures) in this notebook. Don't include the texts you're analyzing. If you generated your corpus programmatically (i.e. using corpus-db.org or some fancy Python), maybe you'll want to include that in the code somewhere here. Your notebook file (`.ipynb`) will be the only thing you turn in.  \n",
    "3. Annotate your code using markdown cells, and/or comment lines (lines beginning with `#`), explaining why you're doing what you're doing. If one of your functions takes certain parameters, for instance, why did you choose those parameters? \n",
    "3. Prune your notebook of unnecessary or redundant code. Run all your code again, to show that it works as-is. Each code cell should have a number in it, and an output, if applicable. \n",
    "4. Proofread well! If English is not your first language, you might consider making an appointment with [the Writing Center](https://slc.berkeley.edu/appointment-service) to get help polishing the language of your paper. At minimum, you'll want to use a spell checker and maybe even an automatic grammar-checking service like [Grammerly](https://www.grammarly.com/). (Of course, you now have the tools to analyze your own writing, if you want. You can get your markdown text into Python by adapting the word count function below, and use it to analyze your most frequent n-grams!) You might also consider organizing a mutual editing session with classmates.\n",
    "4. Ensure that you have no more than three plots (figures). One figure with several subplots is OK, and counts as one figure.\n",
    "4. If you quote from or reference literary works, or works of criticirm, provide in-text parenthetical citations. Then create a bibliographic entry for each work you cite, and include them at the end. Unless your discipline requires a different format, use [MLA Style](https://style.mla.org/) as the format for your bibliography, and title it \"works cited.\" \n",
    "4. Replace the value of the `filename` variable in the wordcount cell below to the name your file. (E.g., `Jonathan-Final.ipynb`.) Then run the wordcount cell. Ensure that your paper is between 1000 and 2000 words, so it doesn't give you any errors or warnings.  \n",
    "5. Optionally, and for a 5% bonus, add your notebook to the `/Projects` directory of the course repository, and submit it as a pull request. Your project will then become public. \n",
    "6. Email me your `.ipynb` file: jonathan.reeve@columbia.edu. Please email me only your `.ipynb` file, alone and uncompressed. Please don't respond to an existing email, but create a new email, with the subject: `Yourname: Final Project`, replacing `yourname` with your name. Do this regardless of whether you also submit a pull request. \n",
    "7. Celebrate! You've finished your final project, and gloriously completed _Introduction to Computational Literary Analysis_!"
   ]
  },
  {
   "cell_type": "code",
   "execution_count": 1,
   "metadata": {
    "scrolled": true
   },
   "outputs": [
    {
     "name": "stderr",
     "output_type": "stream",
     "text": [
      "/Users/sigrid/anaconda3/lib/python3.6/importlib/_bootstrap.py:219: RuntimeWarning: numpy.dtype size changed, may indicate binary incompatibility. Expected 96, got 88\n",
      "  return f(*args, **kwds)\n",
      "/Users/sigrid/anaconda3/lib/python3.6/importlib/_bootstrap.py:219: RuntimeWarning: numpy.dtype size changed, may indicate binary incompatibility. Expected 96, got 88\n",
      "  return f(*args, **kwds)\n",
      "/Users/sigrid/anaconda3/lib/python3.6/importlib/_bootstrap.py:219: RuntimeWarning: numpy.dtype size changed, may indicate binary incompatibility. Expected 96, got 88\n",
      "  return f(*args, **kwds)\n",
      "/Users/sigrid/anaconda3/lib/python3.6/importlib/_bootstrap.py:219: RuntimeWarning: numpy.dtype size changed, may indicate binary incompatibility. Expected 96, got 88\n",
      "  return f(*args, **kwds)\n",
      "/Users/sigrid/anaconda3/lib/python3.6/importlib/_bootstrap.py:219: RuntimeWarning: numpy.dtype size changed, may indicate binary incompatibility. Expected 96, got 88\n",
      "  return f(*args, **kwds)\n",
      "/Users/sigrid/anaconda3/lib/python3.6/site-packages/IPython/nbformat.py:13: ShimWarning: The `IPython.nbformat` package has been deprecated since IPython 4.0. You should import from nbformat instead.\n",
      "  \"You should import from nbformat instead.\", ShimWarning)\n",
      "/Users/sigrid/anaconda3/lib/python3.6/site-packages/nbformat/current.py:19: UserWarning: nbformat.current is deprecated.\n",
      "\n",
      "- use nbformat for read/write/validate public API\n",
      "- use nbformat.vX directly to composing notebooks of a particular version\n",
      "\n",
      "  \"\"\")\n"
     ]
    }
   ],
   "source": [
    "# Import all your libraries here, and only here, please.\n",
    "\n",
    "from nltk import word_tokenize, sent_tokenize, ngrams, pos_tag\n",
    "from nltk.text import Text\n",
    "import pandas as pd\n",
    "import numpy as np\n",
    "from collections import Counter\n",
    "from more_itertools import chunked\n",
    "from nltk.corpus import brown\n",
    "from sklearn.decomposition import PCA\n",
    "from sklearn.feature_extraction.text import TfidfVectorizer\n",
    "from textblob import TextBlob\n",
    "%matplotlib inline\n",
    "import matplotlib.pyplot as plt\n",
    "\n",
    "# Don't remove this line. It's necessary for the wordcount function \n",
    "# below to work. \n",
    "from IPython.nbformat import current\n",
    "\n",
    "# This is to make your plots a little bigger.\n",
    "# You may adjust this, but be careful of making your plots too big or too small.\n",
    "import matplotlib.pyplot as plt\n",
    "plt.rcParams['figure.figsize'] = [10, 6]"
   ]
  },
  {
   "cell_type": "markdown",
   "metadata": {},
   "source": [
    "# 0. Introduction"
   ]
  },
  {
   "cell_type": "markdown",
   "metadata": {},
   "source": [
    "One of the most influential feminist and essayist in the 20th century, Adrienne Rich, once described the mother-daughter relationship as \"the deepest mutuality and the most painful estrangement\"(226). Indeed, although mothers are the closest people to their daughters, they are also the biggest \"enemy\" in the daughters' adolescence. Such ambivalence is even intensified by the cultural collision in immigrants families. Amy Tan's novel The Joy Luck Club, a great Chinese American literature work, perfectly illustrates the Chinese American self-definition difficulties through the portrayal of the complicated mother-daughter relationship. In this paper, I will use computational analysis to explore how Amy Tan highlights the theme in the novel and discuss how to analyze the subtext behind the narratives."
   ]
  },
  {
   "cell_type": "code",
   "execution_count": 2,
   "metadata": {},
   "outputs": [],
   "source": [
    "#load the Joy Luck Club\n",
    "club = open('the_joy_luck_club.md').read()"
   ]
  },
  {
   "cell_type": "markdown",
   "metadata": {},
   "source": [
    "# 1. General Exploration"
   ]
  },
  {
   "cell_type": "markdown",
   "metadata": {},
   "source": [
    "## 1.1 Theme/Motif Searching: Distinctive Words in _the Joy Luck Club_"
   ]
  },
  {
   "cell_type": "markdown",
   "metadata": {},
   "source": [
    "To ensure the topic is worthy of discussing, I decided firstly to search for the most distinctive words to extract the core theme of the novel."
   ]
  },
  {
   "cell_type": "code",
   "execution_count": 3,
   "metadata": {},
   "outputs": [],
   "source": [
    "#remove the punctuations of texts to avoid distraction\n",
    "def removePunct(text):\n",
    "    punctuations = '''!()-[]{};:'\",,,''<>./?@#$%^&*_~’'''\n",
    "    no_Punct = ''\n",
    "    for item in text:\n",
    "        if item not in punctuations:\n",
    "            no_Punct = no_Punct + item\n",
    "    return no_Punct"
   ]
  },
  {
   "cell_type": "code",
   "execution_count": 4,
   "metadata": {},
   "outputs": [],
   "source": [
    "clubnopunctTokens = word_tokenize(removePunct(club).lower())"
   ]
  },
  {
   "cell_type": "code",
   "execution_count": 5,
   "metadata": {},
   "outputs": [],
   "source": [
    "#load the fiction words in brown corpus to compare with other novels\n",
    "ficWords = brown.words(categories=['fiction'])\n",
    "ficWordsL = [word.lower() for word in ficWords]"
   ]
  },
  {
   "cell_type": "code",
   "execution_count": 6,
   "metadata": {},
   "outputs": [],
   "source": [
    "#make counts of tokens\n",
    "clubCounts = Counter(clubnopunctTokens)\n",
    "ficCounts = Counter(ficWords)"
   ]
  },
  {
   "cell_type": "code",
   "execution_count": 7,
   "metadata": {},
   "outputs": [],
   "source": [
    "#make a dataframe of these counts\n",
    "df = pd.DataFrame([clubCounts, ficCounts], \n",
    "                  index=['club', 'fic']).T.fillna(0)"
   ]
  },
  {
   "cell_type": "code",
   "execution_count": 8,
   "metadata": {},
   "outputs": [],
   "source": [
    "#add frequencies\n",
    "df['clubF'] = df['club']/len(clubnopunctTokens)\n",
    "df['ficF'] = df['fic']/len(ficWordsL)"
   ]
  },
  {
   "cell_type": "code",
   "execution_count": 9,
   "metadata": {},
   "outputs": [],
   "source": [
    "#define clubiness\n",
    "df['clubiness'] = df['clubF']- df['ficF']"
   ]
  },
  {
   "cell_type": "code",
   "execution_count": 10,
   "metadata": {
    "scrolled": true
   },
   "outputs": [
    {
     "data": {
      "text/html": [
       "<div>\n",
       "<style scoped>\n",
       "    .dataframe tbody tr th:only-of-type {\n",
       "        vertical-align: middle;\n",
       "    }\n",
       "\n",
       "    .dataframe tbody tr th {\n",
       "        vertical-align: top;\n",
       "    }\n",
       "\n",
       "    .dataframe thead th {\n",
       "        text-align: right;\n",
       "    }\n",
       "</style>\n",
       "<table border=\"1\" class=\"dataframe\">\n",
       "  <thead>\n",
       "    <tr style=\"text-align: right;\">\n",
       "      <th></th>\n",
       "      <th>club</th>\n",
       "      <th>fic</th>\n",
       "      <th>clubF</th>\n",
       "      <th>ficF</th>\n",
       "      <th>clubiness</th>\n",
       "    </tr>\n",
       "  </thead>\n",
       "  <tbody>\n",
       "    <tr>\n",
       "      <th>i</th>\n",
       "      <td>3339.0</td>\n",
       "      <td>0.0</td>\n",
       "      <td>0.035243</td>\n",
       "      <td>0.000000</td>\n",
       "      <td>0.035243</td>\n",
       "    </tr>\n",
       "    <tr>\n",
       "      <th>my</th>\n",
       "      <td>1959.0</td>\n",
       "      <td>119.0</td>\n",
       "      <td>0.020677</td>\n",
       "      <td>0.001738</td>\n",
       "      <td>0.018939</td>\n",
       "    </tr>\n",
       "    <tr>\n",
       "      <th>she</th>\n",
       "      <td>1441.0</td>\n",
       "      <td>280.0</td>\n",
       "      <td>0.015210</td>\n",
       "      <td>0.004088</td>\n",
       "      <td>0.011121</td>\n",
       "    </tr>\n",
       "    <tr>\n",
       "      <th>and</th>\n",
       "      <td>3061.0</td>\n",
       "      <td>1696.0</td>\n",
       "      <td>0.032308</td>\n",
       "      <td>0.024763</td>\n",
       "      <td>0.007545</td>\n",
       "    </tr>\n",
       "    <tr>\n",
       "      <th>mother</th>\n",
       "      <td>654.0</td>\n",
       "      <td>9.0</td>\n",
       "      <td>0.006903</td>\n",
       "      <td>0.000131</td>\n",
       "      <td>0.006771</td>\n",
       "    </tr>\n",
       "    <tr>\n",
       "      <th>me</th>\n",
       "      <td>809.0</td>\n",
       "      <td>137.0</td>\n",
       "      <td>0.008539</td>\n",
       "      <td>0.002000</td>\n",
       "      <td>0.006539</td>\n",
       "    </tr>\n",
       "  </tbody>\n",
       "</table>\n",
       "</div>"
      ],
      "text/plain": [
       "          club     fic     clubF      ficF  clubiness\n",
       "i       3339.0     0.0  0.035243  0.000000   0.035243\n",
       "my      1959.0   119.0  0.020677  0.001738   0.018939\n",
       "she     1441.0   280.0  0.015210  0.004088   0.011121\n",
       "and     3061.0  1696.0  0.032308  0.024763   0.007545\n",
       "mother   654.0     9.0  0.006903  0.000131   0.006771\n",
       "me       809.0   137.0  0.008539  0.002000   0.006539"
      ]
     },
     "execution_count": 10,
     "metadata": {},
     "output_type": "execute_result"
    }
   ],
   "source": [
    "#sort the most distinctive words, focus on the top ones\n",
    "df.sort_values('clubiness', ascending=False)[:6]"
   ]
  },
  {
   "cell_type": "markdown",
   "metadata": {},
   "source": [
    "In the list of the top six distictive words are all words related to \"mother\" or \"I\". Thus I concludes the core theme in _The Joy Luck Club_ is the mother-and-daughter relationship."
   ]
  },
  {
   "cell_type": "markdown",
   "metadata": {},
   "source": [
    "## 1.2 Narrow Down: A Stylometry Comparison Between Narratives of Mothers and Daughters"
   ]
  },
  {
   "cell_type": "markdown",
   "metadata": {},
   "source": [
    "To have a general idea of what the relationship is like, I use PCA to make a stylometry comparison of all the sixteen stories in this book."
   ]
  },
  {
   "cell_type": "code",
   "execution_count": 11,
   "metadata": {},
   "outputs": [],
   "source": [
    "#split it into several parts according to different stories(narratives) in this novel\n",
    "clubParts = club.split('%%%%%')"
   ]
  },
  {
   "cell_type": "markdown",
   "metadata": {},
   "source": [
    "_The Joy Luck Club_ has a unique structure. It is divided into four parts with four narratives and one introduction in each part. So here the whole book is split into sixteen stories and four introductions as below."
   ]
  },
  {
   "cell_type": "code",
   "execution_count": 12,
   "metadata": {},
   "outputs": [],
   "source": [
    "#name these parts\n",
    "#about the name:\n",
    "#'a/b/c/d' refers to different chapters\n",
    "#'intro' refers to the introduction part of a chapter\n",
    "#'name(jingmei/anmei/...)' refers to the narrator of the story\n",
    "#'D/M' refers to whether the narrator is daughter or mother\n",
    "#'1/2/3/4' refers to the time that this narrator appears\n",
    "\n",
    "a_intro = clubParts[1]\n",
    "a_jingmeiD_1 = clubParts[2]\n",
    "a_anmeiM_1 = clubParts[3]\n",
    "a_lindoM_1 = clubParts[4]\n",
    "a_yingyingM_1 = clubParts[5]\n",
    "\n",
    "b_intro = clubParts[6]\n",
    "b_waverlyD_1 = clubParts[7]\n",
    "b_lenaD_1 = clubParts[8]\n",
    "b_roseD_1 = clubParts[9]\n",
    "b_jingmeiD_2 = clubParts[10]\n",
    "\n",
    "c_intro = clubParts[11]\n",
    "c_lenaD_2 = clubParts[12]\n",
    "c_waverlyD_2 = clubParts[13]\n",
    "c_roseD_2 = clubParts[14]\n",
    "c_jingmeiD_3 = clubParts[15]\n",
    "\n",
    "d_intro = clubParts[16]\n",
    "d_anmeiM_2 = clubParts[17]\n",
    "d_yingyingM_2 = clubParts[18]\n",
    "d_lindoM_2 = clubParts[19]\n",
    "d_jingmeiD_4 = clubParts[20]"
   ]
  },
  {
   "cell_type": "code",
   "execution_count": 13,
   "metadata": {},
   "outputs": [],
   "source": [
    "allParts = [a_intro, a_jingmeiD_1, a_anmeiM_1, a_lindoM_1, a_yingyingM_1, \n",
    "            b_intro, b_waverlyD_1, b_lenaD_1, b_roseD_1, b_jingmeiD_2, \n",
    "            c_intro, c_lenaD_2, c_waverlyD_2, c_roseD_2, c_jingmeiD_3, \n",
    "            d_intro, d_anmeiM_2, d_yingyingM_2, d_lindoM_2, d_jingmeiD_4]"
   ]
  },
  {
   "cell_type": "code",
   "execution_count": 14,
   "metadata": {},
   "outputs": [],
   "source": [
    "#make labels\n",
    "allPartsLabels = ['a_intro', 'a_jingmeiD_1', 'a_anmeiM_1', 'a_lindoM_1', 'a_yingyingM_1', \n",
    "                  'b_intro', 'b_waverlyD_1', 'b_lenaD_1', 'b_roseD_1', 'b_jingmeiD_2', \n",
    "                  'c_intro', 'c_lenaD_2', 'c_waverlyD_2', 'c_roseD_2', 'c_jingmeiD_3', \n",
    "                  'd_intro', 'd_anmeiM_2', 'd_yingyingM_2', 'd_lindoM_2', 'd_jingmeiD_4']"
   ]
  },
  {
   "cell_type": "code",
   "execution_count": 15,
   "metadata": {},
   "outputs": [],
   "source": [
    "mothersList = [a_anmeiM_1, a_lindoM_1, a_yingyingM_1, d_anmeiM_2, d_yingyingM_2, d_lindoM_2]\n",
    "daughtersList = [a_jingmeiD_1, b_waverlyD_1, b_lenaD_1, b_roseD_1, b_jingmeiD_2, c_lenaD_2, \n",
    "             c_waverlyD_2, c_roseD_2, c_jingmeiD_3, d_jingmeiD_4]"
   ]
  },
  {
   "cell_type": "code",
   "execution_count": 16,
   "metadata": {},
   "outputs": [],
   "source": [
    "mothers = ''.join(mothersList)\n",
    "daughters = ''.join(daughtersList)"
   ]
  },
  {
   "cell_type": "code",
   "execution_count": 17,
   "metadata": {},
   "outputs": [],
   "source": [
    "# initialize the vectorizer\n",
    "tfidf = TfidfVectorizer(use_idf=False, max_features=800)"
   ]
  },
  {
   "cell_type": "code",
   "execution_count": 18,
   "metadata": {},
   "outputs": [],
   "source": [
    "#calculate the term frequencies of each word, and make the resulting matrix dense\n",
    "#after several experiments, these are the most suitable parametres to set\n",
    "tfidf = TfidfVectorizer(use_idf=True, \n",
    "                        stop_words='english', min_df=2, max_df=.5)"
   ]
  },
  {
   "cell_type": "code",
   "execution_count": 19,
   "metadata": {},
   "outputs": [],
   "source": [
    "tfTable = tfidf.fit_transform(allParts).todense()"
   ]
  },
  {
   "cell_type": "code",
   "execution_count": 20,
   "metadata": {},
   "outputs": [],
   "source": [
    "#reduce the dimensions to 2 using PCA\n",
    "pca= PCA(n_components=2)"
   ]
  },
  {
   "cell_type": "code",
   "execution_count": 21,
   "metadata": {},
   "outputs": [],
   "source": [
    "pcaOut = pca.fit_transform(tfTable)"
   ]
  },
  {
   "cell_type": "code",
   "execution_count": 22,
   "metadata": {
    "scrolled": false
   },
   "outputs": [
    {
     "name": "stderr",
     "output_type": "stream",
     "text": [
      "/Users/sigrid/anaconda3/lib/python3.6/site-packages/matplotlib/cbook/deprecation.py:107: MatplotlibDeprecationWarning: Adding an axes using the same arguments as a previous axes currently reuses the earlier instance.  In a future version, a new instance will always be created and returned.  Meanwhile, this warning can be suppressed, and the future behavior ensured, by passing a unique label to each axes instance.\n",
      "  warnings.warn(message, mplDeprecation, stacklevel=1)\n",
      "/Users/sigrid/anaconda3/lib/python3.6/site-packages/matplotlib/cbook/deprecation.py:107: MatplotlibDeprecationWarning: Passing one of 'on', 'true', 'off', 'false' as a boolean is deprecated; use an actual boolean (True/False) instead.\n",
      "  warnings.warn(message, mplDeprecation, stacklevel=1)\n"
     ]
    },
    {
     "data": {
      "image/png": "[encoded data removed]",
      "text/plain": [
       "<Figure size 1080x504 with 1 Axes>"
      ]
     },
     "metadata": {},
     "output_type": "display_data"
    }
   ],
   "source": [
    "plt.rcParams['figure.figsize'] = [15, 7]\n",
    "#plot the results\n",
    "xs, ys = pcaOut[:,0],pcaOut[:,1]\n",
    "x1, y1 = [-0.6,0.6], [0,0]\n",
    "for i in range(len(xs)):\n",
    "    plt.scatter(xs[i],ys[i])\n",
    "    plt.annotate(allPartsLabels[i], (xs[i],ys[i]))\n",
    "    plt.xlim(-0.6,0.6)\n",
    "    plt.plot(x1, y1, marker = 'o')\n",
    "ax = plt.subplot(111)\n",
    "ax.grid('on')\n",
    "ax.set_title('Daughter Texts Versus Mother Texts')\n",
    "ttl = ax.title\n",
    "ttl.set_weight('bold')"
   ]
  },
  {
   "cell_type": "markdown",
   "metadata": {},
   "source": [
    "There are remarkable differences between mothers and daughters text. So my hypothesis lays as below."
   ]
  },
  {
   "cell_type": "markdown",
   "metadata": {},
   "source": [
    "## Hypothesis 1: Conflict is the dominant tone of the mother-daughter relationship in _the Joy Luck Club_."
   ]
  },
  {
   "cell_type": "markdown",
   "metadata": {},
   "source": [
    "# 2. Test for Hypothesis 1"
   ]
  },
  {
   "cell_type": "code",
   "execution_count": 23,
   "metadata": {},
   "outputs": [],
   "source": [
    "#word tokenize the text of the novel, mothers' narratives and daughtes'\n",
    "cTokens = word_tokenize(removePunct(club))\n",
    "mTokens = word_tokenize(removePunct(mothers))\n",
    "dTokens = word_tokenize(removePunct(daughters))"
   ]
  },
  {
   "cell_type": "code",
   "execution_count": 24,
   "metadata": {
    "scrolled": true
   },
   "outputs": [],
   "source": [
    "#POS tag the tokens\n",
    "cPOS = pos_tag(cTokens)\n",
    "mPOS = pos_tag(mTokens)\n",
    "dPOS = pos_tag(dTokens)"
   ]
  },
  {
   "cell_type": "code",
   "execution_count": 25,
   "metadata": {},
   "outputs": [],
   "source": [
    "cpos = [pair[1] for pair in cPOS]"
   ]
  },
  {
   "cell_type": "code",
   "execution_count": 26,
   "metadata": {},
   "outputs": [
    {
     "data": {
      "text/plain": [
       "[('NN', 12925),\n",
       " ('IN', 9641),\n",
       " ('PRP', 9368),\n",
       " ('DT', 8037),\n",
       " ('VBD', 7751),\n",
       " ('JJ', 6141)]"
      ]
     },
     "execution_count": 26,
     "metadata": {},
     "output_type": "execute_result"
    }
   ],
   "source": [
    "Counter(cpos).most_common(6)"
   ]
  },
  {
   "cell_type": "markdown",
   "metadata": {},
   "source": [
    "The list shows us the POSs that Amy Tan frequently uses in her writings. The nouns and adjectives are the ones that convey the actual meanings most. In this case, I will use POS to find the most common JJ and NN, and try to explain how the results would prove my hypothesis."
   ]
  },
  {
   "cell_type": "markdown",
   "metadata": {},
   "source": [
    "## 2.1 POS - the Most Common Adjectives"
   ]
  },
  {
   "cell_type": "code",
   "execution_count": 27,
   "metadata": {
    "scrolled": false
   },
   "outputs": [
    {
     "data": {
      "text/plain": [
       "[('other', 150),\n",
       " ('Chinese', 147),\n",
       " ('same', 140),\n",
       " ('little', 138),\n",
       " ('old', 121),\n",
       " ('many', 116),\n",
       " ('good', 113),\n",
       " ('first', 92),\n",
       " ('new', 91),\n",
       " ('own', 81),\n",
       " ('next', 81),\n",
       " ('bad', 72),\n",
       " ('much', 71),\n",
       " ('long', 68),\n",
       " ('small', 68),\n",
       " ('white', 65),\n",
       " ('big', 63),\n",
       " ('black', 63),\n",
       " ('large', 57),\n",
       " ('true', 55),\n",
       " ('last', 54),\n",
       " ('red', 51),\n",
       " ('American', 50),\n",
       " ('right', 47),\n",
       " ('few', 45),\n",
       " ('different', 43),\n",
       " ('young', 43),\n",
       " ('terrible', 41),\n",
       " ('open', 41),\n",
       " ('dark', 40)]"
      ]
     },
     "execution_count": 27,
     "metadata": {},
     "output_type": "execute_result"
    }
   ],
   "source": [
    "#find the most common adjectives\n",
    "def getA(taggedText): \n",
    "    a = []\n",
    "    for pair in taggedText: \n",
    "        word = pair[0]\n",
    "        pos = pair[1]\n",
    "        if pos == 'JJ': \n",
    "            a.append(word)\n",
    "    return a\n",
    "clubA = getA(cPOS)\n",
    "Counter(clubA).most_common(30)"
   ]
  },
  {
   "cell_type": "markdown",
   "metadata": {},
   "source": [
    "What we know from the list:\n",
    "\n",
    "a)The most common adjectives are all contrasting pairs (in other words, almost any of the words can find its opposite word in the list). These pairs include: other-own; little-many; Chinese-American; old-new/young; good-bad/terrible; first-last; much-few; small-big/large; black-white. The results prove the hypothesis.\n",
    "\n",
    "b)Three color appears quite often: black, white, red. Since white people are the dominant race in the USA; red is the traditional color of China; black always refers to death. I guess that white symbolizes American culture; red stands for Chinese values; black refers to the pain in life.\n",
    "\n",
    "c)\"Other\" is the most frequent adjective. I assume Tan intends to create a sense of alienation because \"other\" is used to describe one thing that is separated from another.\n",
    "\n",
    "To prove the assumptions in b) and c), I'm going to use ngram to analyze how Tan uses 'other' and the color words 'red,' 'black,' ‘white.’"
   ]
  },
  {
   "cell_type": "code",
   "execution_count": 28,
   "metadata": {},
   "outputs": [],
   "source": [
    "#define function to find the nouns that appear after the color words\n",
    "def redN(taggedText):\n",
    "    redNs = []\n",
    "    bigrams = ngrams(taggedText, 2)\n",
    "    for bigram in bigrams: \n",
    "        if bigram[0][0] == 'red':\n",
    "            if bigram[1][1] in ['NN', 'NNS', 'NNP', 'NNPS']:\n",
    "                redNs.append(bigram[1][0])\n",
    "    return redNs\n",
    "\n",
    "def blackN(taggedText):\n",
    "    blackNs = []\n",
    "    bigrams = ngrams(taggedText, 2)\n",
    "    for bigram in bigrams: \n",
    "        if bigram[0][0] == 'black': \n",
    "            if bigram[1][1] in ['NN', 'NNS', 'NNP', 'NNPS']:\n",
    "                blackNs.append(bigram[1][0])\n",
    "    return blackNs\n",
    "\n",
    "def whiteN(taggedText):\n",
    "    whiteNs = []\n",
    "    bigrams = ngrams(taggedText, 2)\n",
    "    for bigram in bigrams: \n",
    "        if bigram[0][0] == 'white': \n",
    "            if bigram[1][1] in ['NN', 'NNS', 'NNP', 'NNPS']:\n",
    "                whiteNs.append(bigram[1][0])\n",
    "    return whiteNs"
   ]
  },
  {
   "cell_type": "code",
   "execution_count": 29,
   "metadata": {},
   "outputs": [
    {
     "data": {
      "text/html": [
       "<div>\n",
       "<style scoped>\n",
       "    .dataframe tbody tr th:only-of-type {\n",
       "        vertical-align: middle;\n",
       "    }\n",
       "\n",
       "    .dataframe tbody tr th {\n",
       "        vertical-align: top;\n",
       "    }\n",
       "\n",
       "    .dataframe thead th {\n",
       "        text-align: right;\n",
       "    }\n",
       "</style>\n",
       "<table border=\"1\" class=\"dataframe\">\n",
       "  <thead>\n",
       "    <tr style=\"text-align: right;\">\n",
       "      <th></th>\n",
       "      <th>0</th>\n",
       "    </tr>\n",
       "  </thead>\n",
       "  <tbody>\n",
       "    <tr>\n",
       "      <th>white thing</th>\n",
       "      <td>&lt;bound method Counter.most_common of Counter({...</td>\n",
       "    </tr>\n",
       "    <tr>\n",
       "      <th>black thing</th>\n",
       "      <td>&lt;bound method Counter.most_common of Counter({...</td>\n",
       "    </tr>\n",
       "    <tr>\n",
       "      <th>red thing</th>\n",
       "      <td>&lt;bound method Counter.most_common of Counter({...</td>\n",
       "    </tr>\n",
       "  </tbody>\n",
       "</table>\n",
       "</div>"
      ],
      "text/plain": [
       "                                                             0\n",
       "white thing  <bound method Counter.most_common of Counter({...\n",
       "black thing  <bound method Counter.most_common of Counter({...\n",
       "red thing    <bound method Counter.most_common of Counter({..."
      ]
     },
     "execution_count": 29,
     "metadata": {},
     "output_type": "execute_result"
    }
   ],
   "source": [
    "whiteCount = Counter(whiteN(cPOS)).most_common\n",
    "blackCount = Counter(blackN(cPOS)).most_common\n",
    "redCount = Counter(redN(cPOS)).most_common\n",
    "frequencies = pd.DataFrame([whiteCount,blackCount, redCount],\n",
    "                          index = ['white thing', 'black thing', 'red thing'])\n",
    "frequencies = frequencies.fillna(0)\n",
    "frequencies "
   ]
  },
  {
   "cell_type": "markdown",
   "metadata": {},
   "source": [
    "In Counter \"white,\" \"squares\" and \"knight\" describes chess which is a typical Western game. \"Chenille\" and \"Bible\" also represents the West. In Counter \"red,\" words like \"jade,\" palanquin,\" satin\" are from East Asia. In Counter \"black,\" there are negative words \"black side,\" \"ash,\" \"mole\" which may emphasize the dark part of life. One can also see a combination of both West elements and Eastern elements here like \"pawn\" (chess), \"Wurlitzer\", \"motorcar\" versus \"silk,\" \"Wyah,\" \"rickshaw.\" Therefore it shows the assumption in 2.1 b) is correct."
   ]
  },
  {
   "cell_type": "code",
   "execution_count": 30,
   "metadata": {},
   "outputs": [],
   "source": [
    "def otherX(taggedText):\n",
    "    otherXs = []\n",
    "    bigrams = ngrams(taggedText, 2)\n",
    "    for bigram in bigrams: \n",
    "        if bigram[0][0] == 'other': \n",
    "            if bigram[1][1] in ['NN', 'NNS', 'NNP', 'NNPS']:\n",
    "                otherXs.append(bigram[0][0] + ' ' + bigram[1][0])\n",
    "    return otherXs"
   ]
  },
  {
   "cell_type": "code",
   "execution_count": 31,
   "metadata": {},
   "outputs": [
    {
     "data": {
      "text/plain": [
       "[('other side', 15)]"
      ]
     },
     "execution_count": 31,
     "metadata": {},
     "output_type": "execute_result"
    }
   ],
   "source": [
    "Counter(otherX(cPOS)).most_common(1)"
   ]
  },
  {
   "cell_type": "code",
   "execution_count": 32,
   "metadata": {},
   "outputs": [],
   "source": [
    "#Create an empty list\n",
    "otherSent=[]\n",
    "#Define a function to put ngrams(4<n<8) that occurs at least twice into the list\n",
    "def otherput(text):\n",
    "    for sent in text:\n",
    "        if 'other side' in sent:\n",
    "            otherSent.append(sent)\n",
    "    return otherSent"
   ]
  },
  {
   "cell_type": "code",
   "execution_count": 33,
   "metadata": {},
   "outputs": [],
   "source": [
    "clubSents = sent_tokenize(club)"
   ]
  },
  {
   "cell_type": "code",
   "execution_count": 34,
   "metadata": {
    "scrolled": false
   },
   "outputs": [
    {
     "data": {
      "text/plain": [
       "['I saw my mother on the other side of the room.',\n",
       " 'On the other side of the moon I saw the silhouette of a man appear.',\n",
       " 'I darted fast as a lizard behind the stage, to the other side of the moon.',\n",
       " 'As I began to play, the boy disappeared, the color ran out of the room, and I saw only my white pieces and his black ones waiting on the other side.',\n",
       " 'The worst is on the other side.\"',\n",
       " 'Then she bolted down the stairs and I quickly gathered up my books and followed her, careful to walk on the other side of the street.',\n",
       " 'She says she hopes this baby is very happy on the other side.',\n",
       " 'And at night, I could feel the crashing loud fights on the other side of my bedroom wall, this girl being beaten to death.',\n",
       " 'And the daughter said, \"Now you must come back, to the other side.',\n",
       " 'On the other side of the cove, the wall was more jagged, eaten away by the water.',\n",
       " 'The sun had shifted and moved over the other side of the cove wall.',\n",
       " 'It drifted out, toward the other side of the cove where it was caught by stronger waves.',\n",
       " 'The tube had now reached the other side of the cove.',\n",
       " 'And hiding in this place, behind my invisible barriers, I knew what lay on the other side: Her side attacks.',\n",
       " 'On my other side was a woman around my age.']"
      ]
     },
     "execution_count": 34,
     "metadata": {},
     "output_type": "execute_result"
    }
   ],
   "source": [
    "otherput(clubSents)"
   ]
  },
  {
   "cell_type": "markdown",
   "metadata": {},
   "source": [
    "According to Edward Said, \"the construction of identity... involves the construction of opposites and 'others' whose actuality is always subject to the continuous interpretation and reinterpretation of their differences from 'us'\"(332). Here, we can see Amy Tan always uses \"other side\" to show that daughters treat their mothers as an \"Other\" in their reconstruction of identity, or to show their alienation from the outside world caused by their family relationship issue. It justifies the assumption in 2.1 c)."
   ]
  },
  {
   "cell_type": "markdown",
   "metadata": {},
   "source": [
    "To conclude, the results of 2.1 proves conflicts is the leading tone and suggest us to focus on the cultural conflicts because:\n",
    "\n",
    "the adjectives are contrasting pairs\n",
    "\n",
    "b) color words have connections with cultural symbols\n",
    "\n",
    "c) the function of the word \"other\" is to make comparisons and create a sense of alienation."
   ]
  },
  {
   "cell_type": "markdown",
   "metadata": {},
   "source": [
    "## 2.2 POS - the Most Common Nouns"
   ]
  },
  {
   "cell_type": "code",
   "execution_count": 35,
   "metadata": {
    "scrolled": false
   },
   "outputs": [
    {
     "data": {
      "text/plain": [
       "[('mother', 644),\n",
       " ('time', 163),\n",
       " ('father', 163),\n",
       " ('way', 151),\n",
       " ('day', 137),\n",
       " ('house', 131),\n",
       " ('face', 118),\n",
       " ('family', 111),\n",
       " ('girl', 109),\n",
       " ('room', 104)]"
      ]
     },
     "execution_count": 35,
     "metadata": {},
     "output_type": "execute_result"
    }
   ],
   "source": [
    "#find the most common nouns\n",
    "def getN(taggedText): \n",
    "    n = []\n",
    "    for pair in taggedText: \n",
    "        word = pair[0]\n",
    "        pos = pair[1]\n",
    "        if pos == 'NN': \n",
    "            n.append(word)\n",
    "    return n\n",
    "clubN = getN(cPOS)\n",
    "Counter(clubN).most_common(10)"
   ]
  },
  {
   "cell_type": "markdown",
   "metadata": {},
   "source": [
    "The results of 2.2 further emphasize on culture: \"Mother,\" \"father,\" \"girl,\" \"family\" are the main characters in the novel. \"Time\" and \"day\" are time settings. But how can \"face\" appear 123 times in the book? \"Face,\" which is written as \"面子\" in Chinese, is a unique phenomenon in Chinese culture. \"A face is a negotiated public image, mutually granted each other by participants in a communicative event\"(Scollon 35). In one of the concordances of \"face,\" there is such a description of \"face\" by Popo, a representative of traditional Chinese value, \"When you lose your face, it is like dropping your necklace down a well. The only way you can get it falls in after it.\" From this sentence, we can see how important \"face\" is to the Chinese. However, as American believes that humans are independent self-oriented individuals, there will be cultural conflicts between characters.\n",
    "\n",
    "Now we know cultural differences counts in the mother-daughter relationship in the Joy Luck Club. But how can cultural conflicts influence family relations? I come out with a further hypothesis as below:"
   ]
  },
  {
   "cell_type": "markdown",
   "metadata": {},
   "source": [
    "## Hypothesis 2: People from various cultural backgrounds has different mindsets. Thus it affects family relations by the collision of different communication mode and the difficulties in value acceptance.\n"
   ]
  },
  {
   "cell_type": "markdown",
   "metadata": {},
   "source": [
    "To find some illustrations of traumas in immigrants families caused by cultural differences to prove Hypothesis 2, I carry out Test Two. In this test, I will use frequencies to find the most distinctive words and punctuations of daughters compared to their mothers and see the concordance. I will also use ngram to figure out the pattern that Amy Tan uses when giving the vivid picture of the characters' worldview."
   ]
  },
  {
   "cell_type": "markdown",
   "metadata": {},
   "source": [
    "# 3. Test for Hypothesis 2"
   ]
  },
  {
   "cell_type": "markdown",
   "metadata": {},
   "source": [
    "## 3.1 Finding Distinctive Words: An Analysis of the Mother/Daughter Mindset"
   ]
  },
  {
   "cell_type": "code",
   "execution_count": 36,
   "metadata": {},
   "outputs": [],
   "source": [
    "#to fully evaluate the narratives, I decided include punctuations this time\n",
    "cpuncTokens = word_tokenize(club)\n",
    "mpuncTokens = word_tokenize(mothers)\n",
    "dpuncTokens = word_tokenize(daughters)\n",
    "cCounts = Counter(cpuncTokens)\n",
    "mCounts = Counter(mpuncTokens)\n",
    "dCounts = Counter(dpuncTokens)"
   ]
  },
  {
   "cell_type": "code",
   "execution_count": 37,
   "metadata": {},
   "outputs": [],
   "source": [
    "#make a dataframe of the counts\n",
    "df = pd.DataFrame([clubCounts, mCounts, dCounts], \n",
    "                  index=['club', 'mothers', 'daughters']).T.fillna(0)"
   ]
  },
  {
   "cell_type": "code",
   "execution_count": 38,
   "metadata": {},
   "outputs": [],
   "source": [
    "#add frequencies\n",
    "df['clubF'] = df['club']*100/len(cpuncTokens)\n",
    "df['motherF'] = df['mothers']*100/len(mpuncTokens)\n",
    "df['daughterF'] = df['daughters']*100/len(dpuncTokens)"
   ]
  },
  {
   "cell_type": "code",
   "execution_count": 39,
   "metadata": {},
   "outputs": [],
   "source": [
    "#define diness, which means the distinctiveness of the daughters' words\n",
    "df['diness'] = df['daughterF']- df['motherF']"
   ]
  },
  {
   "cell_type": "code",
   "execution_count": 40,
   "metadata": {
    "scrolled": false
   },
   "outputs": [
    {
     "data": {
      "text/html": [
       "<div>\n",
       "<style scoped>\n",
       "    .dataframe tbody tr th:only-of-type {\n",
       "        vertical-align: middle;\n",
       "    }\n",
       "\n",
       "    .dataframe tbody tr th {\n",
       "        vertical-align: top;\n",
       "    }\n",
       "\n",
       "    .dataframe thead th {\n",
       "        text-align: right;\n",
       "    }\n",
       "</style>\n",
       "<table border=\"1\" class=\"dataframe\">\n",
       "  <thead>\n",
       "    <tr style=\"text-align: right;\">\n",
       "      <th></th>\n",
       "      <th>club</th>\n",
       "      <th>mothers</th>\n",
       "      <th>daughters</th>\n",
       "      <th>clubF</th>\n",
       "      <th>motherF</th>\n",
       "      <th>daughterF</th>\n",
       "      <th>diness</th>\n",
       "    </tr>\n",
       "  </thead>\n",
       "  <tbody>\n",
       "    <tr>\n",
       "      <th>,</th>\n",
       "      <td>0.0</td>\n",
       "      <td>1950.0</td>\n",
       "      <td>3871.0</td>\n",
       "      <td>0.000000</td>\n",
       "      <td>4.741757</td>\n",
       "      <td>5.543383</td>\n",
       "      <td>0.801627</td>\n",
       "    </tr>\n",
       "    <tr>\n",
       "      <th>''</th>\n",
       "      <td>0.0</td>\n",
       "      <td>366.0</td>\n",
       "      <td>987.0</td>\n",
       "      <td>0.000000</td>\n",
       "      <td>0.889991</td>\n",
       "      <td>1.413412</td>\n",
       "      <td>0.523421</td>\n",
       "    </tr>\n",
       "    <tr>\n",
       "      <th>``</th>\n",
       "      <td>0.0</td>\n",
       "      <td>387.0</td>\n",
       "      <td>1008.0</td>\n",
       "      <td>0.000000</td>\n",
       "      <td>0.941056</td>\n",
       "      <td>1.443485</td>\n",
       "      <td>0.502429</td>\n",
       "    </tr>\n",
       "    <tr>\n",
       "      <th>n't</th>\n",
       "      <td>0.0</td>\n",
       "      <td>72.0</td>\n",
       "      <td>316.0</td>\n",
       "      <td>0.000000</td>\n",
       "      <td>0.175080</td>\n",
       "      <td>0.452521</td>\n",
       "      <td>0.277441</td>\n",
       "    </tr>\n",
       "    <tr>\n",
       "      <th>mother</th>\n",
       "      <td>654.0</td>\n",
       "      <td>202.0</td>\n",
       "      <td>516.0</td>\n",
       "      <td>0.581783</td>\n",
       "      <td>0.491197</td>\n",
       "      <td>0.738927</td>\n",
       "      <td>0.247729</td>\n",
       "    </tr>\n",
       "    <tr>\n",
       "      <th>he</th>\n",
       "      <td>571.0</td>\n",
       "      <td>107.0</td>\n",
       "      <td>301.0</td>\n",
       "      <td>0.507948</td>\n",
       "      <td>0.260189</td>\n",
       "      <td>0.431041</td>\n",
       "      <td>0.170852</td>\n",
       "    </tr>\n",
       "    <tr>\n",
       "      <th>we</th>\n",
       "      <td>453.0</td>\n",
       "      <td>84.0</td>\n",
       "      <td>260.0</td>\n",
       "      <td>0.402978</td>\n",
       "      <td>0.204260</td>\n",
       "      <td>0.372327</td>\n",
       "      <td>0.168067</td>\n",
       "    </tr>\n",
       "    <tr>\n",
       "      <th>?</th>\n",
       "      <td>0.0</td>\n",
       "      <td>122.0</td>\n",
       "      <td>314.0</td>\n",
       "      <td>0.000000</td>\n",
       "      <td>0.296664</td>\n",
       "      <td>0.449657</td>\n",
       "      <td>0.152993</td>\n",
       "    </tr>\n",
       "    <tr>\n",
       "      <th>Auntie</th>\n",
       "      <td>0.0</td>\n",
       "      <td>13.0</td>\n",
       "      <td>127.0</td>\n",
       "      <td>0.000000</td>\n",
       "      <td>0.031612</td>\n",
       "      <td>0.181868</td>\n",
       "      <td>0.150256</td>\n",
       "    </tr>\n",
       "    <tr>\n",
       "      <th>said</th>\n",
       "      <td>471.0</td>\n",
       "      <td>138.0</td>\n",
       "      <td>329.0</td>\n",
       "      <td>0.418991</td>\n",
       "      <td>0.335570</td>\n",
       "      <td>0.471137</td>\n",
       "      <td>0.135567</td>\n",
       "    </tr>\n",
       "    <tr>\n",
       "      <th>for</th>\n",
       "      <td>543.0</td>\n",
       "      <td>157.0</td>\n",
       "      <td>354.0</td>\n",
       "      <td>0.483040</td>\n",
       "      <td>0.381772</td>\n",
       "      <td>0.506938</td>\n",
       "      <td>0.125166</td>\n",
       "    </tr>\n",
       "    <tr>\n",
       "      <th>about</th>\n",
       "      <td>247.0</td>\n",
       "      <td>60.0</td>\n",
       "      <td>184.0</td>\n",
       "      <td>0.219725</td>\n",
       "      <td>0.145900</td>\n",
       "      <td>0.263493</td>\n",
       "      <td>0.117593</td>\n",
       "    </tr>\n",
       "    <tr>\n",
       "      <th>what</th>\n",
       "      <td>381.0</td>\n",
       "      <td>77.0</td>\n",
       "      <td>211.0</td>\n",
       "      <td>0.338929</td>\n",
       "      <td>0.187239</td>\n",
       "      <td>0.302158</td>\n",
       "      <td>0.114919</td>\n",
       "    </tr>\n",
       "    <tr>\n",
       "      <th>in</th>\n",
       "      <td>1280.0</td>\n",
       "      <td>407.0</td>\n",
       "      <td>768.0</td>\n",
       "      <td>1.138658</td>\n",
       "      <td>0.989690</td>\n",
       "      <td>1.099798</td>\n",
       "      <td>0.110108</td>\n",
       "    </tr>\n",
       "    <tr>\n",
       "      <th>father</th>\n",
       "      <td>166.0</td>\n",
       "      <td>45.0</td>\n",
       "      <td>141.0</td>\n",
       "      <td>0.147670</td>\n",
       "      <td>0.109425</td>\n",
       "      <td>0.201916</td>\n",
       "      <td>0.092491</td>\n",
       "    </tr>\n",
       "    <tr>\n",
       "      <th>Harold</th>\n",
       "      <td>0.0</td>\n",
       "      <td>0.0</td>\n",
       "      <td>63.0</td>\n",
       "      <td>0.000000</td>\n",
       "      <td>0.000000</td>\n",
       "      <td>0.090218</td>\n",
       "      <td>0.090218</td>\n",
       "    </tr>\n",
       "    <tr>\n",
       "      <th>them</th>\n",
       "      <td>178.0</td>\n",
       "      <td>43.0</td>\n",
       "      <td>135.0</td>\n",
       "      <td>0.158345</td>\n",
       "      <td>0.104562</td>\n",
       "      <td>0.193324</td>\n",
       "      <td>0.088762</td>\n",
       "    </tr>\n",
       "    <tr>\n",
       "      <th>Chinese</th>\n",
       "      <td>0.0</td>\n",
       "      <td>48.0</td>\n",
       "      <td>139.0</td>\n",
       "      <td>0.000000</td>\n",
       "      <td>0.116720</td>\n",
       "      <td>0.199052</td>\n",
       "      <td>0.082332</td>\n",
       "    </tr>\n",
       "    <tr>\n",
       "      <th>I</th>\n",
       "      <td>0.0</td>\n",
       "      <td>1250.0</td>\n",
       "      <td>2180.0</td>\n",
       "      <td>0.000000</td>\n",
       "      <td>3.039588</td>\n",
       "      <td>3.121823</td>\n",
       "      <td>0.082235</td>\n",
       "    </tr>\n",
       "    <tr>\n",
       "      <th>'m</th>\n",
       "      <td>0.0</td>\n",
       "      <td>8.0</td>\n",
       "      <td>71.0</td>\n",
       "      <td>0.000000</td>\n",
       "      <td>0.019453</td>\n",
       "      <td>0.101674</td>\n",
       "      <td>0.082221</td>\n",
       "    </tr>\n",
       "    <tr>\n",
       "      <th>had</th>\n",
       "      <td>843.0</td>\n",
       "      <td>291.0</td>\n",
       "      <td>549.0</td>\n",
       "      <td>0.749913</td>\n",
       "      <td>0.707616</td>\n",
       "      <td>0.786184</td>\n",
       "      <td>0.078568</td>\n",
       "    </tr>\n",
       "    <tr>\n",
       "      <th>time</th>\n",
       "      <td>164.0</td>\n",
       "      <td>40.0</td>\n",
       "      <td>122.0</td>\n",
       "      <td>0.145891</td>\n",
       "      <td>0.097267</td>\n",
       "      <td>0.174708</td>\n",
       "      <td>0.077441</td>\n",
       "    </tr>\n",
       "    <tr>\n",
       "      <th>Ted</th>\n",
       "      <td>0.0</td>\n",
       "      <td>0.0</td>\n",
       "      <td>53.0</td>\n",
       "      <td>0.000000</td>\n",
       "      <td>0.000000</td>\n",
       "      <td>0.075898</td>\n",
       "      <td>0.075898</td>\n",
       "    </tr>\n",
       "    <tr>\n",
       "      <th>Rich</th>\n",
       "      <td>0.0</td>\n",
       "      <td>0.0</td>\n",
       "      <td>52.0</td>\n",
       "      <td>0.000000</td>\n",
       "      <td>0.000000</td>\n",
       "      <td>0.074465</td>\n",
       "      <td>0.074465</td>\n",
       "    </tr>\n",
       "    <tr>\n",
       "      <th>all</th>\n",
       "      <td>291.0</td>\n",
       "      <td>79.0</td>\n",
       "      <td>182.0</td>\n",
       "      <td>0.258867</td>\n",
       "      <td>0.192102</td>\n",
       "      <td>0.260629</td>\n",
       "      <td>0.068527</td>\n",
       "    </tr>\n",
       "    <tr>\n",
       "      <th>it</th>\n",
       "      <td>832.0</td>\n",
       "      <td>234.0</td>\n",
       "      <td>445.0</td>\n",
       "      <td>0.740128</td>\n",
       "      <td>0.569011</td>\n",
       "      <td>0.637253</td>\n",
       "      <td>0.068242</td>\n",
       "    </tr>\n",
       "    <tr>\n",
       "      <th>have</th>\n",
       "      <td>267.0</td>\n",
       "      <td>80.0</td>\n",
       "      <td>182.0</td>\n",
       "      <td>0.237517</td>\n",
       "      <td>0.194534</td>\n",
       "      <td>0.260629</td>\n",
       "      <td>0.066096</td>\n",
       "    </tr>\n",
       "    <tr>\n",
       "      <th>of</th>\n",
       "      <td>1433.0</td>\n",
       "      <td>504.0</td>\n",
       "      <td>901.0</td>\n",
       "      <td>1.274764</td>\n",
       "      <td>1.225562</td>\n",
       "      <td>1.290258</td>\n",
       "      <td>0.064696</td>\n",
       "    </tr>\n",
       "    <tr>\n",
       "      <th>And</th>\n",
       "      <td>0.0</td>\n",
       "      <td>260.0</td>\n",
       "      <td>485.0</td>\n",
       "      <td>0.000000</td>\n",
       "      <td>0.632234</td>\n",
       "      <td>0.694534</td>\n",
       "      <td>0.062300</td>\n",
       "    </tr>\n",
       "    <tr>\n",
       "      <th>from</th>\n",
       "      <td>391.0</td>\n",
       "      <td>123.0</td>\n",
       "      <td>251.0</td>\n",
       "      <td>0.347825</td>\n",
       "      <td>0.299095</td>\n",
       "      <td>0.359439</td>\n",
       "      <td>0.060344</td>\n",
       "    </tr>\n",
       "    <tr>\n",
       "      <th>...</th>\n",
       "      <td>...</td>\n",
       "      <td>...</td>\n",
       "      <td>...</td>\n",
       "      <td>...</td>\n",
       "      <td>...</td>\n",
       "      <td>...</td>\n",
       "      <td>...</td>\n",
       "    </tr>\n",
       "    <tr>\n",
       "      <th>!</th>\n",
       "      <td>0.0</td>\n",
       "      <td>151.0</td>\n",
       "      <td>194.0</td>\n",
       "      <td>0.000000</td>\n",
       "      <td>0.367182</td>\n",
       "      <td>0.277814</td>\n",
       "      <td>-0.089369</td>\n",
       "    </tr>\n",
       "    <tr>\n",
       "      <th>Amah</th>\n",
       "      <td>0.0</td>\n",
       "      <td>37.0</td>\n",
       "      <td>0.0</td>\n",
       "      <td>0.000000</td>\n",
       "      <td>0.089972</td>\n",
       "      <td>0.000000</td>\n",
       "      <td>-0.089972</td>\n",
       "    </tr>\n",
       "    <tr>\n",
       "      <th>began</th>\n",
       "      <td>76.0</td>\n",
       "      <td>52.0</td>\n",
       "      <td>24.0</td>\n",
       "      <td>0.067608</td>\n",
       "      <td>0.126447</td>\n",
       "      <td>0.034369</td>\n",
       "      <td>-0.092078</td>\n",
       "    </tr>\n",
       "    <tr>\n",
       "      <th>day</th>\n",
       "      <td>137.0</td>\n",
       "      <td>76.0</td>\n",
       "      <td>61.0</td>\n",
       "      <td>0.121872</td>\n",
       "      <td>0.184807</td>\n",
       "      <td>0.087354</td>\n",
       "      <td>-0.097453</td>\n",
       "    </tr>\n",
       "    <tr>\n",
       "      <th>girl</th>\n",
       "      <td>118.0</td>\n",
       "      <td>70.0</td>\n",
       "      <td>49.0</td>\n",
       "      <td>0.104970</td>\n",
       "      <td>0.170217</td>\n",
       "      <td>0.070169</td>\n",
       "      <td>-0.100047</td>\n",
       "    </tr>\n",
       "    <tr>\n",
       "      <th>daughter</th>\n",
       "      <td>94.0</td>\n",
       "      <td>60.0</td>\n",
       "      <td>29.0</td>\n",
       "      <td>0.083620</td>\n",
       "      <td>0.145900</td>\n",
       "      <td>0.041529</td>\n",
       "      <td>-0.104371</td>\n",
       "    </tr>\n",
       "    <tr>\n",
       "      <th>She</th>\n",
       "      <td>0.0</td>\n",
       "      <td>187.0</td>\n",
       "      <td>244.0</td>\n",
       "      <td>0.000000</td>\n",
       "      <td>0.454722</td>\n",
       "      <td>0.349415</td>\n",
       "      <td>-0.105307</td>\n",
       "    </tr>\n",
       "    <tr>\n",
       "      <th>Wu</th>\n",
       "      <td>0.0</td>\n",
       "      <td>44.0</td>\n",
       "      <td>0.0</td>\n",
       "      <td>0.000000</td>\n",
       "      <td>0.106993</td>\n",
       "      <td>0.000000</td>\n",
       "      <td>-0.106993</td>\n",
       "    </tr>\n",
       "    <tr>\n",
       "      <th>Tsing</th>\n",
       "      <td>0.0</td>\n",
       "      <td>44.0</td>\n",
       "      <td>0.0</td>\n",
       "      <td>0.000000</td>\n",
       "      <td>0.106993</td>\n",
       "      <td>0.000000</td>\n",
       "      <td>-0.106993</td>\n",
       "    </tr>\n",
       "    <tr>\n",
       "      <th>Huang</th>\n",
       "      <td>0.0</td>\n",
       "      <td>45.0</td>\n",
       "      <td>0.0</td>\n",
       "      <td>0.000000</td>\n",
       "      <td>0.109425</td>\n",
       "      <td>0.000000</td>\n",
       "      <td>-0.109425</td>\n",
       "    </tr>\n",
       "    <tr>\n",
       "      <th>Popo</th>\n",
       "      <td>0.0</td>\n",
       "      <td>45.0</td>\n",
       "      <td>0.0</td>\n",
       "      <td>0.000000</td>\n",
       "      <td>0.109425</td>\n",
       "      <td>0.000000</td>\n",
       "      <td>-0.109425</td>\n",
       "    </tr>\n",
       "    <tr>\n",
       "      <th>Second</th>\n",
       "      <td>0.0</td>\n",
       "      <td>46.0</td>\n",
       "      <td>0.0</td>\n",
       "      <td>0.000000</td>\n",
       "      <td>0.111857</td>\n",
       "      <td>0.000000</td>\n",
       "      <td>-0.111857</td>\n",
       "    </tr>\n",
       "    <tr>\n",
       "      <th>Taitai</th>\n",
       "      <td>0.0</td>\n",
       "      <td>46.0</td>\n",
       "      <td>0.0</td>\n",
       "      <td>0.000000</td>\n",
       "      <td>0.111857</td>\n",
       "      <td>0.000000</td>\n",
       "      <td>-0.111857</td>\n",
       "    </tr>\n",
       "    <tr>\n",
       "      <th>me</th>\n",
       "      <td>809.0</td>\n",
       "      <td>325.0</td>\n",
       "      <td>473.0</td>\n",
       "      <td>0.719668</td>\n",
       "      <td>0.790293</td>\n",
       "      <td>0.677350</td>\n",
       "      <td>-0.112943</td>\n",
       "    </tr>\n",
       "    <tr>\n",
       "      <th>so</th>\n",
       "      <td>540.0</td>\n",
       "      <td>169.0</td>\n",
       "      <td>207.0</td>\n",
       "      <td>0.480371</td>\n",
       "      <td>0.410952</td>\n",
       "      <td>0.296430</td>\n",
       "      <td>-0.114522</td>\n",
       "    </tr>\n",
       "    <tr>\n",
       "      <th>will</th>\n",
       "      <td>136.0</td>\n",
       "      <td>76.0</td>\n",
       "      <td>49.0</td>\n",
       "      <td>0.120982</td>\n",
       "      <td>0.184807</td>\n",
       "      <td>0.070169</td>\n",
       "      <td>-0.114638</td>\n",
       "    </tr>\n",
       "    <tr>\n",
       "      <th>house</th>\n",
       "      <td>133.0</td>\n",
       "      <td>79.0</td>\n",
       "      <td>51.0</td>\n",
       "      <td>0.118314</td>\n",
       "      <td>0.192102</td>\n",
       "      <td>0.073033</td>\n",
       "      <td>-0.119068</td>\n",
       "    </tr>\n",
       "    <tr>\n",
       "      <th>your</th>\n",
       "      <td>283.0</td>\n",
       "      <td>122.0</td>\n",
       "      <td>119.0</td>\n",
       "      <td>0.251750</td>\n",
       "      <td>0.296664</td>\n",
       "      <td>0.170411</td>\n",
       "      <td>-0.126252</td>\n",
       "    </tr>\n",
       "    <tr>\n",
       "      <th>face</th>\n",
       "      <td>123.0</td>\n",
       "      <td>80.0</td>\n",
       "      <td>42.0</td>\n",
       "      <td>0.109418</td>\n",
       "      <td>0.194534</td>\n",
       "      <td>0.060145</td>\n",
       "      <td>-0.134388</td>\n",
       "    </tr>\n",
       "    <tr>\n",
       "      <th>is</th>\n",
       "      <td>571.0</td>\n",
       "      <td>246.0</td>\n",
       "      <td>310.0</td>\n",
       "      <td>0.507948</td>\n",
       "      <td>0.598191</td>\n",
       "      <td>0.443929</td>\n",
       "      <td>-0.154262</td>\n",
       "    </tr>\n",
       "    <tr>\n",
       "      <th>to</th>\n",
       "      <td>2475.0</td>\n",
       "      <td>944.0</td>\n",
       "      <td>1489.0</td>\n",
       "      <td>2.201703</td>\n",
       "      <td>2.295497</td>\n",
       "      <td>2.132291</td>\n",
       "      <td>-0.163206</td>\n",
       "    </tr>\n",
       "    <tr>\n",
       "      <th>this</th>\n",
       "      <td>679.0</td>\n",
       "      <td>245.0</td>\n",
       "      <td>294.0</td>\n",
       "      <td>0.604023</td>\n",
       "      <td>0.595759</td>\n",
       "      <td>0.421016</td>\n",
       "      <td>-0.174743</td>\n",
       "    </tr>\n",
       "    <tr>\n",
       "      <th>was</th>\n",
       "      <td>1386.0</td>\n",
       "      <td>566.0</td>\n",
       "      <td>828.0</td>\n",
       "      <td>1.232953</td>\n",
       "      <td>1.376325</td>\n",
       "      <td>1.185720</td>\n",
       "      <td>-0.190605</td>\n",
       "    </tr>\n",
       "    <tr>\n",
       "      <th>Wife</th>\n",
       "      <td>0.0</td>\n",
       "      <td>85.0</td>\n",
       "      <td>0.0</td>\n",
       "      <td>0.000000</td>\n",
       "      <td>0.206692</td>\n",
       "      <td>0.000000</td>\n",
       "      <td>-0.206692</td>\n",
       "    </tr>\n",
       "    <tr>\n",
       "      <th>her</th>\n",
       "      <td>1113.0</td>\n",
       "      <td>445.0</td>\n",
       "      <td>586.0</td>\n",
       "      <td>0.990099</td>\n",
       "      <td>1.082093</td>\n",
       "      <td>0.839169</td>\n",
       "      <td>-0.242924</td>\n",
       "    </tr>\n",
       "    <tr>\n",
       "      <th>my</th>\n",
       "      <td>1959.0</td>\n",
       "      <td>701.0</td>\n",
       "      <td>1001.0</td>\n",
       "      <td>1.742681</td>\n",
       "      <td>1.704601</td>\n",
       "      <td>1.433461</td>\n",
       "      <td>-0.271140</td>\n",
       "    </tr>\n",
       "    <tr>\n",
       "      <th>.</th>\n",
       "      <td>0.0</td>\n",
       "      <td>2401.0</td>\n",
       "      <td>3847.0</td>\n",
       "      <td>0.000000</td>\n",
       "      <td>5.838440</td>\n",
       "      <td>5.509015</td>\n",
       "      <td>-0.329425</td>\n",
       "    </tr>\n",
       "    <tr>\n",
       "      <th>not</th>\n",
       "      <td>624.0</td>\n",
       "      <td>307.0</td>\n",
       "      <td>283.0</td>\n",
       "      <td>0.555096</td>\n",
       "      <td>0.746523</td>\n",
       "      <td>0.405264</td>\n",
       "      <td>-0.341259</td>\n",
       "    </tr>\n",
       "    <tr>\n",
       "      <th>and</th>\n",
       "      <td>3061.0</td>\n",
       "      <td>956.0</td>\n",
       "      <td>1329.0</td>\n",
       "      <td>2.722995</td>\n",
       "      <td>2.324677</td>\n",
       "      <td>1.903166</td>\n",
       "      <td>-0.421510</td>\n",
       "    </tr>\n",
       "    <tr>\n",
       "      <th>a</th>\n",
       "      <td>1981.0</td>\n",
       "      <td>812.0</td>\n",
       "      <td>1069.0</td>\n",
       "      <td>1.762252</td>\n",
       "      <td>1.974516</td>\n",
       "      <td>1.530839</td>\n",
       "      <td>-0.443677</td>\n",
       "    </tr>\n",
       "  </tbody>\n",
       "</table>\n",
       "<p>9677 rows × 7 columns</p>\n",
       "</div>"
      ],
      "text/plain": [
       "            club  mothers  daughters     clubF   motherF  daughterF    diness\n",
       ",            0.0   1950.0     3871.0  0.000000  4.741757   5.543383  0.801627\n",
       "''           0.0    366.0      987.0  0.000000  0.889991   1.413412  0.523421\n",
       "``           0.0    387.0     1008.0  0.000000  0.941056   1.443485  0.502429\n",
       "n't          0.0     72.0      316.0  0.000000  0.175080   0.452521  0.277441\n",
       "mother     654.0    202.0      516.0  0.581783  0.491197   0.738927  0.247729\n",
       "he         571.0    107.0      301.0  0.507948  0.260189   0.431041  0.170852\n",
       "we         453.0     84.0      260.0  0.402978  0.204260   0.372327  0.168067\n",
       "?            0.0    122.0      314.0  0.000000  0.296664   0.449657  0.152993\n",
       "Auntie       0.0     13.0      127.0  0.000000  0.031612   0.181868  0.150256\n",
       "said       471.0    138.0      329.0  0.418991  0.335570   0.471137  0.135567\n",
       "for        543.0    157.0      354.0  0.483040  0.381772   0.506938  0.125166\n",
       "about      247.0     60.0      184.0  0.219725  0.145900   0.263493  0.117593\n",
       "what       381.0     77.0      211.0  0.338929  0.187239   0.302158  0.114919\n",
       "in        1280.0    407.0      768.0  1.138658  0.989690   1.099798  0.110108\n",
       "father     166.0     45.0      141.0  0.147670  0.109425   0.201916  0.092491\n",
       "Harold       0.0      0.0       63.0  0.000000  0.000000   0.090218  0.090218\n",
       "them       178.0     43.0      135.0  0.158345  0.104562   0.193324  0.088762\n",
       "Chinese      0.0     48.0      139.0  0.000000  0.116720   0.199052  0.082332\n",
       "I            0.0   1250.0     2180.0  0.000000  3.039588   3.121823  0.082235\n",
       "'m           0.0      8.0       71.0  0.000000  0.019453   0.101674  0.082221\n",
       "had        843.0    291.0      549.0  0.749913  0.707616   0.786184  0.078568\n",
       "time       164.0     40.0      122.0  0.145891  0.097267   0.174708  0.077441\n",
       "Ted          0.0      0.0       53.0  0.000000  0.000000   0.075898  0.075898\n",
       "Rich         0.0      0.0       52.0  0.000000  0.000000   0.074465  0.074465\n",
       "all        291.0     79.0      182.0  0.258867  0.192102   0.260629  0.068527\n",
       "it         832.0    234.0      445.0  0.740128  0.569011   0.637253  0.068242\n",
       "have       267.0     80.0      182.0  0.237517  0.194534   0.260629  0.066096\n",
       "of        1433.0    504.0      901.0  1.274764  1.225562   1.290258  0.064696\n",
       "And          0.0    260.0      485.0  0.000000  0.632234   0.694534  0.062300\n",
       "from       391.0    123.0      251.0  0.347825  0.299095   0.359439  0.060344\n",
       "...          ...      ...        ...       ...       ...        ...       ...\n",
       "!            0.0    151.0      194.0  0.000000  0.367182   0.277814 -0.089369\n",
       "Amah         0.0     37.0        0.0  0.000000  0.089972   0.000000 -0.089972\n",
       "began       76.0     52.0       24.0  0.067608  0.126447   0.034369 -0.092078\n",
       "day        137.0     76.0       61.0  0.121872  0.184807   0.087354 -0.097453\n",
       "girl       118.0     70.0       49.0  0.104970  0.170217   0.070169 -0.100047\n",
       "daughter    94.0     60.0       29.0  0.083620  0.145900   0.041529 -0.104371\n",
       "She          0.0    187.0      244.0  0.000000  0.454722   0.349415 -0.105307\n",
       "Wu           0.0     44.0        0.0  0.000000  0.106993   0.000000 -0.106993\n",
       "Tsing        0.0     44.0        0.0  0.000000  0.106993   0.000000 -0.106993\n",
       "Huang        0.0     45.0        0.0  0.000000  0.109425   0.000000 -0.109425\n",
       "Popo         0.0     45.0        0.0  0.000000  0.109425   0.000000 -0.109425\n",
       "Second       0.0     46.0        0.0  0.000000  0.111857   0.000000 -0.111857\n",
       "Taitai       0.0     46.0        0.0  0.000000  0.111857   0.000000 -0.111857\n",
       "me         809.0    325.0      473.0  0.719668  0.790293   0.677350 -0.112943\n",
       "so         540.0    169.0      207.0  0.480371  0.410952   0.296430 -0.114522\n",
       "will       136.0     76.0       49.0  0.120982  0.184807   0.070169 -0.114638\n",
       "house      133.0     79.0       51.0  0.118314  0.192102   0.073033 -0.119068\n",
       "your       283.0    122.0      119.0  0.251750  0.296664   0.170411 -0.126252\n",
       "face       123.0     80.0       42.0  0.109418  0.194534   0.060145 -0.134388\n",
       "is         571.0    246.0      310.0  0.507948  0.598191   0.443929 -0.154262\n",
       "to        2475.0    944.0     1489.0  2.201703  2.295497   2.132291 -0.163206\n",
       "this       679.0    245.0      294.0  0.604023  0.595759   0.421016 -0.174743\n",
       "was       1386.0    566.0      828.0  1.232953  1.376325   1.185720 -0.190605\n",
       "Wife         0.0     85.0        0.0  0.000000  0.206692   0.000000 -0.206692\n",
       "her       1113.0    445.0      586.0  0.990099  1.082093   0.839169 -0.242924\n",
       "my        1959.0    701.0     1001.0  1.742681  1.704601   1.433461 -0.271140\n",
       ".            0.0   2401.0     3847.0  0.000000  5.838440   5.509015 -0.329425\n",
       "not        624.0    307.0      283.0  0.555096  0.746523   0.405264 -0.341259\n",
       "and       3061.0    956.0     1329.0  2.722995  2.324677   1.903166 -0.421510\n",
       "a         1981.0    812.0     1069.0  1.762252  1.974516   1.530839 -0.443677\n",
       "\n",
       "[9677 rows x 7 columns]"
      ]
     },
     "execution_count": 40,
     "metadata": {},
     "output_type": "execute_result"
    }
   ],
   "source": [
    "#sort the most distinctive words\n",
    "df.sort_values('diness', ascending=False)"
   ]
  },
  {
   "cell_type": "code",
   "execution_count": 41,
   "metadata": {
    "scrolled": false
   },
   "outputs": [
    {
     "name": "stdout",
     "output_type": "stream",
     "text": [
      "Displaying 25 of 316 matches:\n",
      "ook black sesame-seed soup . '' `` Do n't show off , '' I said . `` It 's not s\n",
      "s . I can never remember things I did n't understand in the first place . My mo\n",
      " behind in China and hopes they could n't begin to express in their fragile Eng\n",
      "hings so strange and beautiful you ca n't ever imagine them . `` But I did n't \n",
      " n't ever imagine them . `` But I did n't come to Kweilin to see how beautiful \n",
      " leftovers mixed together . If it had n't been for the Japanese , there would h\n",
      " looked down on someone else . It did n't matter that everybody shared the same\n",
      "o hide like wild animals . But you ca n't stay in the dark for so long . Someth\n",
      "ay , I heard screaming sounds . I did n't know if it was a peasant slitting the\n",
      "ng in his way on the sidewalk . I did n't go to the window to find out . What u\n",
      "o with our meager allowances ! We did n't notice that the dumplings were stuffe\n",
      ". We ate sparingly , not as if we did n't have enough , but to protest how we c\n",
      "rget past wrongs done to us . We were n't allowed to think a bad thought . We f\n",
      "tens of thousands of yuan . But I was n't rich . No . By then paper money had b\n",
      "r , to think a thousand-yuan note was n't even good enough to rub on our bottom\n",
      "jong table of hong mu . By then I did n't have enough feeling left in my body t\n",
      "t happened to the babies ? '' She did n't even pause to think . She simply said\n",
      " seemed insulted and said , `` You do n't even know little percent of me ! How \n",
      " for that matter . But my father does n't seem to be looking at the picture any\n",
      "that means indifferent because you ca n't see any differences ? That 's how tro\n",
      " we were children , Auntie An-mei did n't let us touch any of her new furniture\n",
      "red with a Shanghai dialect . `` Were n't we going to play mah jong tonight ? '\n",
      "pe of a tiny nurse 's cap . `` You ca n't have luck when someone else has skill\n",
      "has quick , expert fingers . She does n't have to think about what she is doing\n",
      ", '' said my mother , `` and she does n't know why . '' As I watch Auntie An-me\n"
     ]
    }
   ],
   "source": [
    "Text(dpuncTokens).concordance(\"n't\")"
   ]
  },
  {
   "cell_type": "code",
   "execution_count": 42,
   "metadata": {},
   "outputs": [
    {
     "data": {
      "text/plain": [
       "['\"Don\\'t show off,\" I said.',\n",
       " \"I can never remember things I didn't understand in the first place.\",\n",
       " \"My mother could sense that the women of these families also had unspeakable tragedies they had left behind in China and hopes they couldn't begin to express in their fragile English.\",\n",
       " \"These were things so strange and beautiful you can't ever imagine them.\",\n",
       " '\"But I didn\\'t come to Kweilin to see how beautiful it was.',\n",
       " \"If it hadn't been for the Japanese, there would have been plenty of reason for fighting to break out among these different people.\",\n",
       " \"It didn't matter that everybody shared the same sidewalk to spit on and suffered the same fast-moving diarrhea.\",\n",
       " \"But you can't stay in the dark for so long.\",\n",
       " \"I didn't know if it was a peasant slitting the throat of a runaway pig or an officer beating a half-dead peasant for lying in his way on the sidewalk.\",\n",
       " \"I didn't go to the window to find out.\"]"
      ]
     },
     "execution_count": 42,
     "metadata": {},
     "output_type": "execute_result"
    }
   ],
   "source": [
    "#Create an empty list\n",
    "negSent=[]\n",
    "#Define a function to put ngrams(4<n<8) that occurs at least twice into the list\n",
    "def negput(text):\n",
    "    for sent in text:\n",
    "        if \"n't\"in sent:\n",
    "            negSent.append(sent)\n",
    "    return negSent\n",
    "dSents = sent_tokenize(daughters)\n",
    "negSent_Club = negput(dSents)\n",
    "negSent_Club[:10]"
   ]
  },
  {
   "cell_type": "markdown",
   "metadata": {},
   "source": [
    "In 3.1, we can evaluate mothers' and daughters' narratives in the following aspects:\n",
    "\n",
    "1)The frequent use of the quotation mark(\") and \"said\" suggest daughters pay more attention to verbal communication instead of nonverbal. The cultural background causes such a difference in the communication mode. American culture encourages more on the direct and precise expression, yet in China, people like to attach more importance to nonverbal communication like actions and silence.\n",
    "\n",
    "2)\"N't\" and question mark(?) shows the uncertainty of daughters. Born in immigrants families, the daughters are troubled with identity issues and other related questions. They do not fully accept the Chinese social rules, at the same time, the white society excludes them. So in their inner world, they might have a negative and doubtful attitude to the outer world.\n",
    "\n",
    "Although mothers are not our focus in this section, there are still a few points worth notice:\n",
    "\n",
    "1)Mothers also use \"not\" a lot 2)\"face\" matters more to mothers\n",
    "\n",
    "How exactly does it feel to have such struggle? Does Amy Tan use a particular pattern or literary devices to reveal the inner world of the mothers and daughters? Here continues the test."
   ]
  },
  {
   "cell_type": "markdown",
   "metadata": {},
   "source": [
    "## 3.2 Ngram: Finding Patterns"
   ]
  },
  {
   "cell_type": "code",
   "execution_count": 43,
   "metadata": {},
   "outputs": [],
   "source": [
    "#Create an empty list\n",
    "results=[]\n",
    "#Define a function to put ngrams(4<n<8) that occurs at least twice into the list\n",
    "def clubput(Tokens):\n",
    "    for n in range(4, 8):\n",
    "        clubNgrams = list(ngrams(Tokens, n))\n",
    "        clubNgramCounter = Counter(clubNgrams)\n",
    "        for ngram in clubNgrams:\n",
    "            if clubNgramCounter[ngram]>2:\n",
    "                results.append(ngram)\n",
    "            if clubNgramCounter[ngram]==2:    \n",
    "                results.append(ngram)"
   ]
  },
  {
   "cell_type": "code",
   "execution_count": 44,
   "metadata": {},
   "outputs": [],
   "source": [
    "clubput(clubnopunctTokens)"
   ]
  },
  {
   "cell_type": "code",
   "execution_count": 45,
   "metadata": {
    "scrolled": false
   },
   "outputs": [
    {
     "data": {
      "text/plain": [
       "[(('the', 'joy', 'luck', 'club'), 15),\n",
       " (('as', 'if', 'she', 'were'), 15),\n",
       " (('at', 'the', 'same', 'time'), 14),\n",
       " (('as', 'if', 'she', 'had'), 13),\n",
       " (('as', 'if', 'i', 'had'), 12),\n",
       " (('as', 'if', 'i', 'were'), 10),\n",
       " (('and', 'then', 'i', 'saw'), 10),\n",
       " (('i', 'could', 'see', 'the'), 10),\n",
       " (('it', 'was', 'as', 'if'), 10),\n",
       " (('my', 'mother', 'told', 'me'), 9),\n",
       " (('for', 'the', 'first', 'time'), 9),\n",
       " (('on', 'the', 'other', 'side'), 9),\n",
       " (('the', 'other', 'side', 'of'), 9),\n",
       " (('over', 'and', 'over', 'again'), 9),\n",
       " (('my', 'mother', 'used', 'to'), 8),\n",
       " (('on', 'top', 'of', 'the'), 8),\n",
       " (('my', 'mother', 'and', 'i'), 8),\n",
       " (('the', 'side', 'of', 'the'), 8),\n",
       " (('other', 'side', 'of', 'the'), 8),\n",
       " (('even', 'though', 'i', 'was'), 8)]"
      ]
     },
     "execution_count": 45,
     "metadata": {},
     "output_type": "execute_result"
    }
   ],
   "source": [
    "#list the most common ones\n",
    "Counter(results).most_common(20)"
   ]
  },
  {
   "cell_type": "markdown",
   "metadata": {},
   "source": [
    "The result reveals the critical themes again of the novel.\n",
    "\n",
    "a) \"The joy luck club\" which is the title of the novel, ranks the first in the list. This 4-gram is the name of a weekly gathering of main characters to play mah-jong, eat good food, and gossip. It symbolizes the connection between the main characters. Frequent mentioning it can remind readers of the women's friendship, which is censorious, unsteady, competitive, but always loyal.\n",
    "\n",
    "b) There are many \"as if\" phrases in the list. \"As if\" always makes the subordinate clause which uses the subjunctive mood. We use such a mood to talk about an imaginary situation or a situation that may not be true, but that is likely or possible. In this case, \"as if she were/had,\" \"as if I were/had\" implicate the theme misunderstanding, between two generations and the cultural differences between two countries.\n",
    "\n",
    "c) \"My mother told me,\" \"my mother used to,\" \"my mother and I\" appear a lot in the novel. These ngram corresponds to the family love, which is one of the key themes in the book since the narrators are all talking about their mothers and daughters.\n",
    "\n",
    "d) Ngrams \"for the first time\" and \"over and over again,\" \"the side of the\" and \"other side of the,\" \"even though I was\" present us some contradictions and conflicts. The Joy Luck Club talks about a Chinese-American world, where the daughters are too American for their mothers' tastes, and the mothers are too Chinese for their daughters'. Thus, many emotions or experience become \"the first time\" in their life. However, their fixed mindset cannot easily change even though after their mothers or daughters have tried to challenge it \"over and over again.\" They are just like \"the side\" and \"other side,\" contrasting but connected.\n",
    "\n",
    "But back to our topic, Amy Tan's pattern is her craze for using \"as if\" sentences."
   ]
  },
  {
   "cell_type": "code",
   "execution_count": 46,
   "metadata": {},
   "outputs": [],
   "source": [
    "#Create an empty list\n",
    "asifSent=[]\n",
    "#Define a function to put ngrams(4<n<8) that occurs at least twice into the list\n",
    "def asifput(text):\n",
    "    for sent in text:\n",
    "        if 'as if' in sent:\n",
    "            asifSent.append(sent)\n",
    "    return asifSent"
   ]
  },
  {
   "cell_type": "code",
   "execution_count": 47,
   "metadata": {},
   "outputs": [],
   "source": [
    "clubSents = sent_tokenize(club)"
   ]
  },
  {
   "cell_type": "code",
   "execution_count": 48,
   "metadata": {},
   "outputs": [],
   "source": [
    "asifSent_Club = asifput(clubSents)"
   ]
  },
  {
   "cell_type": "code",
   "execution_count": 49,
   "metadata": {
    "scrolled": true
   },
   "outputs": [
    {
     "data": {
      "text/plain": [
       "136"
      ]
     },
     "execution_count": 49,
     "metadata": {},
     "output_type": "execute_result"
    }
   ],
   "source": [
    "len(asifSent_Club)"
   ]
  },
  {
   "cell_type": "markdown",
   "metadata": {},
   "source": [
    "Here I make a list sorted by sentiments so that we can read the most sentimental ones in \"as if\" sentences."
   ]
  },
  {
   "cell_type": "code",
   "execution_count": 50,
   "metadata": {
    "scrolled": false
   },
   "outputs": [],
   "source": [
    "asifSentiments = [TextBlob(sent).sentiment.polarity\n",
    "                    for sent in asifSent_Club]"
   ]
  },
  {
   "cell_type": "code",
   "execution_count": 51,
   "metadata": {},
   "outputs": [],
   "source": [
    "#make a dataframe of these counts\n",
    "df = pd.DataFrame([asifSentiments, asifSent_Club], \n",
    "                  index=['Sentiment', 'Sent']).T.fillna(0)"
   ]
  },
  {
   "cell_type": "code",
   "execution_count": 52,
   "metadata": {},
   "outputs": [],
   "source": [
    "pd.set_option('display.max_colwidth', -1)"
   ]
  },
  {
   "cell_type": "code",
   "execution_count": 53,
   "metadata": {
    "scrolled": true
   },
   "outputs": [
    {
     "data": {
      "text/html": [
       "<div>\n",
       "<style scoped>\n",
       "    .dataframe tbody tr th:only-of-type {\n",
       "        vertical-align: middle;\n",
       "    }\n",
       "\n",
       "    .dataframe tbody tr th {\n",
       "        vertical-align: top;\n",
       "    }\n",
       "\n",
       "    .dataframe thead th {\n",
       "        text-align: right;\n",
       "    }\n",
       "</style>\n",
       "<table border=\"1\" class=\"dataframe\">\n",
       "  <thead>\n",
       "    <tr style=\"text-align: right;\">\n",
       "      <th></th>\n",
       "      <th>Sentiment</th>\n",
       "      <th>Sent</th>\n",
       "    </tr>\n",
       "  </thead>\n",
       "  <tbody>\n",
       "    <tr>\n",
       "      <th>18</th>\n",
       "      <td>-1.000000</td>\n",
       "      <td>My body was writhing as if I were seized by a terrible pain.</td>\n",
       "    </tr>\n",
       "    <tr>\n",
       "      <th>4</th>\n",
       "      <td>-0.600000</td>\n",
       "      <td>The others look uncomfortable, as if this were not how they intended to break some sort of bad news to me.</td>\n",
       "    </tr>\n",
       "    <tr>\n",
       "      <th>8</th>\n",
       "      <td>-0.500000</td>\n",
       "      <td>They still look troubled, as if something were out of balance.</td>\n",
       "    </tr>\n",
       "    <tr>\n",
       "      <th>132</th>\n",
       "      <td>-0.400000</td>\n",
       "      <td>It seemed as if I wanted to sustain my grief, to assure myself that I had cared deeply enough.</td>\n",
       "    </tr>\n",
       "    <tr>\n",
       "      <th>70</th>\n",
       "      <td>-0.328571</td>\n",
       "      <td>She would say stiff words to my father and brothers, as if I had become invisible and she was talking about a rotten fish she had thrown away but which had left behind its bad smell.</td>\n",
       "    </tr>\n",
       "  </tbody>\n",
       "</table>\n",
       "</div>"
      ],
      "text/plain": [
       "     Sentiment  \\\n",
       "18  -1.000000    \n",
       "4   -0.600000    \n",
       "8   -0.500000    \n",
       "132 -0.400000    \n",
       "70  -0.328571    \n",
       "\n",
       "                                                                                                                                                                                       Sent  \n",
       "18   My body was writhing as if I were seized by a terrible pain.                                                                                                                            \n",
       "4    The others look uncomfortable, as if this were not how they intended to break some sort of bad news to me.                                                                              \n",
       "8    They still look troubled, as if something were out of balance.                                                                                                                          \n",
       "132  It seemed as if I wanted to sustain my grief, to assure myself that I had cared deeply enough.                                                                                          \n",
       "70   She would say stiff words to my father and brothers, as if I had become invisible and she was talking about a rotten fish she had thrown away but which had left behind its bad smell.  "
      ]
     },
     "execution_count": 53,
     "metadata": {},
     "output_type": "execute_result"
    }
   ],
   "source": [
    "df.sort_values(by=['Sentiment'])[0:5]"
   ]
  },
  {
   "cell_type": "code",
   "execution_count": 54,
   "metadata": {},
   "outputs": [
    {
     "data": {
      "text/html": [
       "<div>\n",
       "<style scoped>\n",
       "    .dataframe tbody tr th:only-of-type {\n",
       "        vertical-align: middle;\n",
       "    }\n",
       "\n",
       "    .dataframe tbody tr th {\n",
       "        vertical-align: top;\n",
       "    }\n",
       "\n",
       "    .dataframe thead th {\n",
       "        text-align: right;\n",
       "    }\n",
       "</style>\n",
       "<table border=\"1\" class=\"dataframe\">\n",
       "  <thead>\n",
       "    <tr style=\"text-align: right;\">\n",
       "      <th></th>\n",
       "      <th>Sentiment</th>\n",
       "      <th>Sent</th>\n",
       "    </tr>\n",
       "  </thead>\n",
       "  <tbody>\n",
       "    <tr>\n",
       "      <th>11</th>\n",
       "      <td>0.6</td>\n",
       "      <td>Because I was promised to the Huangs' son for marriage, my own family began treating me as if I belonged to somebody else.</td>\n",
       "    </tr>\n",
       "    <tr>\n",
       "      <th>71</th>\n",
       "      <td>0.6</td>\n",
       "      <td>But instead, she gathered her face into a frown and stared into my eyes, as if she could force some kind of truth out of me.</td>\n",
       "    </tr>\n",
       "    <tr>\n",
       "      <th>112</th>\n",
       "      <td>0.7</td>\n",
       "      <td>\"Your mother,\" said Yan Chang, as if talking to herself, \"is too good for this family.\"</td>\n",
       "    </tr>\n",
       "    <tr>\n",
       "      <th>24</th>\n",
       "      <td>0.7</td>\n",
       "      <td>But I stayed, as if caught in a good dream.</td>\n",
       "    </tr>\n",
       "    <tr>\n",
       "      <th>96</th>\n",
       "      <td>0.7</td>\n",
       "      <td>She said it in a way as if this were proof—proof of something good.</td>\n",
       "    </tr>\n",
       "  </tbody>\n",
       "</table>\n",
       "</div>"
      ],
      "text/plain": [
       "     Sentiment  \\\n",
       "11   0.6         \n",
       "71   0.6         \n",
       "112  0.7         \n",
       "24   0.7         \n",
       "96   0.7         \n",
       "\n",
       "                                                                                                                             Sent  \n",
       "11   Because I was promised to the Huangs' son for marriage, my own family began treating me as if I belonged to somebody else.    \n",
       "71   But instead, she gathered her face into a frown and stared into my eyes, as if she could force some kind of truth out of me.  \n",
       "112  \"Your mother,\" said Yan Chang, as if talking to herself, \"is too good for this family.\"                                       \n",
       "24   But I stayed, as if caught in a good dream.                                                                                   \n",
       "96   She said it in a way as if this were proof—proof of something good.                                                           "
      ]
     },
     "execution_count": 54,
     "metadata": {},
     "output_type": "execute_result"
    }
   ],
   "source": [
    "df.sort_values(by=['Sentiment'])[131:136]"
   ]
  },
  {
   "cell_type": "markdown",
   "metadata": {},
   "source": [
    "Some of these sentences are direct, and some are ironic. But the computer doesn't know much about irony. So the sentiments evaluation results are not that accurate. The most sentimental \"as if\" sentences embody the inner world of the characters. In the close reading of these sentences, there are expressions like \"as if I had become invisible\" and \"as if she could force some kind of truth out of me,\" we can see daughters think their mothers communicate with them in a wrong way or even refuse to communicate at all. \"As if\" create a space that is illusory but also real, where Chinese mothers and their American daughters exist together. In such a space, Tan uses action, psychology, and other descriptions to make the conflicts between the characters more specific.\n",
    "\n",
    "The results of 3 prove Hypothesis 2 is correct."
   ]
  },
  {
   "cell_type": "markdown",
   "metadata": {},
   "source": [
    "# 4. Conclusion"
   ]
  },
  {
   "cell_type": "markdown",
   "metadata": {},
   "source": [
    "Using computational analysis in distant and close reading to Amy Tan's novel The Joy Luck Club, we can have a glimpse on the mother-daughter relationship in immigrants family. According to Tan's writing, cultural differences are the main reason for conflicts of the narrators. She uses color words, contrasting adjectives, and specific cultural elements to convey such a theme. Cultural differences have a significant influence on people's mindset. In immigrants families, people are especially suffering from different values, and various communication modes, caused by cultural collision，they also have serious trouble with self-cognition. Amy Tan likes explicitly using \"as if\" sentences to give vivid pictures of the characters. Some of these sentences are simple and direct, others are ironic and need us to understand the subtext."
   ]
  },
  {
   "cell_type": "markdown",
   "metadata": {},
   "source": [
    "# Works Cited"
   ]
  },
  {
   "cell_type": "markdown",
   "metadata": {},
   "source": [
    "Lewis, Trinidad, et al. \"Intercultural Communication: A Discourse Approach.\" TESOL Quarterly, vol. 30, no. 2, 1996.\n",
    "\n",
    "Rich, Adrienne. Of Woman Born: Motherhood As Experience and Institution. Virago, 1997.\n",
    "\n",
    "Said, E. W. Orientalism. Random House US, 2014."
   ]
  },
  {
   "cell_type": "markdown",
   "metadata": {},
   "source": [
    "### Wordcount Function\n",
    "\n",
    "Please replace `Yourname-Final.ipynb` with the filename of this notebook. For instance, if my name is Jonathan, and I've renamed this notebook to `Jonathan-Final.ipynb`, I'd change `filename = 'Yourname-Final.ipynb'` below to `filename = 'Jonathan-Final.ipynb`. "
   ]
  },
  {
   "cell_type": "code",
   "execution_count": 55,
   "metadata": {},
   "outputs": [
    {
     "name": "stdout",
     "output_type": "stream",
     "text": [
      "Total words: 1770\n"
     ]
    }
   ],
   "source": [
    "filename = 'YijiaWu-Final.ipynb'\n",
    "\n",
    "if filename == 'Yourname-Final.ipynb': \n",
    "    raise ValueError(\"You forgot to change the filename above!\")\n",
    "\n",
    "with open('YijiaWu-Final.ipynb', encoding='utf-8') as f:\n",
    "    nb = current.read(f, 'json')\n",
    "\n",
    "wordCount = 0\n",
    "\n",
    "for cell in nb.worksheets[0].cells:\n",
    "    if cell.cell_type == \"markdown\":\n",
    "        wordCount += len(cell['source'].replace('#', '').lstrip().split(' '))\n",
    "\n",
    "# This is the word count of my instructions. \n",
    "# My instructions obviously don't count toward the final word count, \n",
    "tare = 533\n",
    "\n",
    "wordCount = wordCount - tare\n",
    "\n",
    "print(\"Total words: {}\".format(wordCount))\n",
    "\n",
    "if wordCount < 1000: \n",
    "    raise Warning('Your paper has not yet met the minimum required length.')\n",
    "if wordCount > 2000: \n",
    "    raise Warning('Your paper has exceeded the maximum allowed length. Please edit for concision.')"
   ]
  }
 ],
 "metadata": {
  "kernelspec": {
   "display_name": "Python 3",
   "language": "python",
   "name": "python3"
  },
  "language_info": {
   "codemirror_mode": {
    "name": "ipython",
    "version": 3
   },
   "file_extension": ".py",
   "mimetype": "text/x-python",
   "name": "python",
   "nbconvert_exporter": "python",
   "pygments_lexer": "ipython3",
   "version": "3.6.6"
  }
 },
 "nbformat": 4,
 "nbformat_minor": 2
}
